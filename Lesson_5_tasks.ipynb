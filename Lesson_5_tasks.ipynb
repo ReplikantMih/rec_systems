{
 "cells": [
  {
   "cell_type": "markdown",
   "metadata": {},
   "source": [
    "# Вебинар 5. Домашнее задание"
   ]
  },
  {
   "cell_type": "markdown",
   "metadata": {},
   "source": [
    "### Import"
   ]
  },
  {
   "cell_type": "code",
   "execution_count": 1,
   "metadata": {
    "ExecuteTime": {
     "end_time": "2020-11-16T21:45:03.690627Z",
     "start_time": "2020-11-16T21:45:00.288920Z"
    }
   },
   "outputs": [],
   "source": [
    "import pandas as pd\n",
    "import numpy as np\n",
    "import matplotlib.pyplot as plt\n",
    "%matplotlib inline\n",
    "\n",
    "# Для работы с матрицами\n",
    "from scipy.sparse import csr_matrix\n",
    "\n",
    "# Матричная факторизация\n",
    "from implicit.als import AlternatingLeastSquares\n",
    "from implicit.nearest_neighbours import ItemItemRecommender  # нужен для одного трюка\n",
    "from implicit.nearest_neighbours import bm25_weight, tfidf_weight\n",
    "\n",
    "# Функции из 1-ого вебинара\n",
    "import os, sys\n",
    "\n",
    "module_path = os.path.abspath(os.path.join(os.pardir))\n",
    "if module_path not in sys.path:\n",
    "    sys.path.append(module_path)\n",
    "    \n",
    "from src.metrics import precision_at_k, recall_at_k\n",
    "from src.utils import prefilter_items"
   ]
  },
  {
   "cell_type": "markdown",
   "metadata": {},
   "source": [
    "### Data import"
   ]
  },
  {
   "cell_type": "code",
   "execution_count": 2,
   "metadata": {
    "ExecuteTime": {
     "end_time": "2020-11-16T21:45:11.749778Z",
     "start_time": "2020-11-16T21:45:03.698918Z"
    }
   },
   "outputs": [],
   "source": [
    "def import_data():\n",
    "    data = pd.read_csv('raw_data/transaction_data.csv')\n",
    "\n",
    "    data.columns = [col.lower() for col in data.columns]\n",
    "    data.rename(columns={'household_key': 'user_id',\n",
    "                        'product_id': 'item_id'},\n",
    "               inplace=True)\n",
    "\n",
    "\n",
    "    test_size_weeks = 3\n",
    "\n",
    "    data_train = data[data['week_no'] < data['week_no'].max() - test_size_weeks]\n",
    "    data_test = data[data['week_no'] >= data['week_no'].max() - test_size_weeks]\n",
    "\n",
    "#     data_train.head(2)\n",
    "    \n",
    "    return data_train, data_test\n",
    "\n",
    "data_train, data_test = import_data()"
   ]
  },
  {
   "cell_type": "code",
   "execution_count": 3,
   "metadata": {
    "ExecuteTime": {
     "end_time": "2020-11-16T21:45:11.781523Z",
     "start_time": "2020-11-16T21:45:11.756783Z"
    }
   },
   "outputs": [
    {
     "data": {
      "text/plain": [
       "(2485538, 12)"
      ]
     },
     "execution_count": 3,
     "metadata": {},
     "output_type": "execute_result"
    }
   ],
   "source": [
    "data_train.shape"
   ]
  },
  {
   "cell_type": "code",
   "execution_count": 4,
   "metadata": {
    "ExecuteTime": {
     "end_time": "2020-11-16T21:45:12.330901Z",
     "start_time": "2020-11-16T21:45:11.792781Z"
    }
   },
   "outputs": [
    {
     "data": {
      "text/html": [
       "<div>\n",
       "<style scoped>\n",
       "    .dataframe tbody tr th:only-of-type {\n",
       "        vertical-align: middle;\n",
       "    }\n",
       "\n",
       "    .dataframe tbody tr th {\n",
       "        vertical-align: top;\n",
       "    }\n",
       "\n",
       "    .dataframe thead th {\n",
       "        text-align: right;\n",
       "    }\n",
       "</style>\n",
       "<table border=\"1\" class=\"dataframe\">\n",
       "  <thead>\n",
       "    <tr style=\"text-align: right;\">\n",
       "      <th></th>\n",
       "      <th>item_id</th>\n",
       "      <th>manufacturer</th>\n",
       "      <th>department</th>\n",
       "      <th>brand</th>\n",
       "      <th>commodity_desc</th>\n",
       "      <th>sub_commodity_desc</th>\n",
       "      <th>curr_size_of_product</th>\n",
       "    </tr>\n",
       "  </thead>\n",
       "  <tbody>\n",
       "    <tr>\n",
       "      <th>0</th>\n",
       "      <td>25671</td>\n",
       "      <td>2</td>\n",
       "      <td>GROCERY</td>\n",
       "      <td>National</td>\n",
       "      <td>FRZN ICE</td>\n",
       "      <td>ICE - CRUSHED/CUBED</td>\n",
       "      <td>22 LB</td>\n",
       "    </tr>\n",
       "    <tr>\n",
       "      <th>1</th>\n",
       "      <td>26081</td>\n",
       "      <td>2</td>\n",
       "      <td>MISC. TRANS.</td>\n",
       "      <td>National</td>\n",
       "      <td>NO COMMODITY DESCRIPTION</td>\n",
       "      <td>NO SUBCOMMODITY DESCRIPTION</td>\n",
       "      <td></td>\n",
       "    </tr>\n",
       "  </tbody>\n",
       "</table>\n",
       "</div>"
      ],
      "text/plain": [
       "   item_id  manufacturer    department     brand            commodity_desc  \\\n",
       "0    25671             2       GROCERY  National                  FRZN ICE   \n",
       "1    26081             2  MISC. TRANS.  National  NO COMMODITY DESCRIPTION   \n",
       "\n",
       "            sub_commodity_desc curr_size_of_product  \n",
       "0          ICE - CRUSHED/CUBED                22 LB  \n",
       "1  NO SUBCOMMODITY DESCRIPTION                       "
      ]
     },
     "execution_count": 4,
     "metadata": {},
     "output_type": "execute_result"
    }
   ],
   "source": [
    "item_features = pd.read_csv('raw_data/product.csv')\n",
    "item_features.columns = [col.lower() for col in item_features.columns]\n",
    "item_features.rename(columns={'product_id': 'item_id'}, inplace=True)\n",
    "\n",
    "item_features.head(2)"
   ]
  },
  {
   "cell_type": "markdown",
   "metadata": {},
   "source": [
    "### Preprocessing"
   ]
  },
  {
   "cell_type": "code",
   "execution_count": 5,
   "metadata": {
    "ExecuteTime": {
     "end_time": "2020-11-16T21:45:13.790891Z",
     "start_time": "2020-11-16T21:45:12.338192Z"
    }
   },
   "outputs": [
    {
     "data": {
      "text/html": [
       "<div>\n",
       "<style scoped>\n",
       "    .dataframe tbody tr th:only-of-type {\n",
       "        vertical-align: middle;\n",
       "    }\n",
       "\n",
       "    .dataframe tbody tr th {\n",
       "        vertical-align: top;\n",
       "    }\n",
       "\n",
       "    .dataframe thead th {\n",
       "        text-align: right;\n",
       "    }\n",
       "</style>\n",
       "<table border=\"1\" class=\"dataframe\">\n",
       "  <thead>\n",
       "    <tr style=\"text-align: right;\">\n",
       "      <th></th>\n",
       "      <th>user_id</th>\n",
       "      <th>actual</th>\n",
       "    </tr>\n",
       "  </thead>\n",
       "  <tbody>\n",
       "    <tr>\n",
       "      <th>0</th>\n",
       "      <td>1</td>\n",
       "      <td>[879517, 934369, 1115576, 1124029, 5572301, 65...</td>\n",
       "    </tr>\n",
       "    <tr>\n",
       "      <th>1</th>\n",
       "      <td>3</td>\n",
       "      <td>[823704, 834117, 840244, 913785, 917816, 93870...</td>\n",
       "    </tr>\n",
       "  </tbody>\n",
       "</table>\n",
       "</div>"
      ],
      "text/plain": [
       "   user_id                                             actual\n",
       "0        1  [879517, 934369, 1115576, 1124029, 5572301, 65...\n",
       "1        3  [823704, 834117, 840244, 913785, 917816, 93870..."
      ]
     },
     "execution_count": 5,
     "metadata": {},
     "output_type": "execute_result"
    }
   ],
   "source": [
    "result = data_test.groupby('user_id')['item_id'].unique().reset_index()\n",
    "result.columns=['user_id', 'actual']\n",
    "result.head(2)"
   ]
  },
  {
   "cell_type": "code",
   "execution_count": 6,
   "metadata": {
    "ExecuteTime": {
     "end_time": "2020-11-16T21:45:25.520387Z",
     "start_time": "2020-11-16T21:45:13.796782Z"
    }
   },
   "outputs": [
    {
     "name": "stdout",
     "output_type": "stream",
     "text": [
      "Decreased # items from 90386 to 391\n"
     ]
    }
   ],
   "source": [
    "n_items_before = data_train['item_id'].nunique()\n",
    "\n",
    "data_train = prefilter_items(data_train, item_features)\n",
    "\n",
    "n_items_after = data_train['item_id'].nunique()\n",
    "print('Decreased # items from {} to {}'.format(n_items_before, n_items_after))"
   ]
  },
  {
   "cell_type": "code",
   "execution_count": 7,
   "metadata": {
    "ExecuteTime": {
     "end_time": "2020-11-16T21:45:25.630712Z",
     "start_time": "2020-11-16T21:45:25.533385Z"
    }
   },
   "outputs": [
    {
     "data": {
      "text/html": [
       "<div>\n",
       "<style scoped>\n",
       "    .dataframe tbody tr th:only-of-type {\n",
       "        vertical-align: middle;\n",
       "    }\n",
       "\n",
       "    .dataframe tbody tr th {\n",
       "        vertical-align: top;\n",
       "    }\n",
       "\n",
       "    .dataframe thead th {\n",
       "        text-align: right;\n",
       "    }\n",
       "</style>\n",
       "<table border=\"1\" class=\"dataframe\">\n",
       "  <thead>\n",
       "    <tr style=\"text-align: right;\">\n",
       "      <th></th>\n",
       "      <th>user_id</th>\n",
       "      <th>basket_id</th>\n",
       "      <th>day</th>\n",
       "      <th>item_id</th>\n",
       "      <th>quantity</th>\n",
       "      <th>sales_value</th>\n",
       "      <th>store_id</th>\n",
       "      <th>retail_disc</th>\n",
       "      <th>trans_time</th>\n",
       "      <th>week_no</th>\n",
       "      <th>coupon_disc</th>\n",
       "      <th>coupon_match_disc</th>\n",
       "      <th>manufacturer</th>\n",
       "      <th>department</th>\n",
       "      <th>brand</th>\n",
       "      <th>commodity_desc</th>\n",
       "      <th>sub_commodity_desc</th>\n",
       "      <th>curr_size_of_product</th>\n",
       "    </tr>\n",
       "  </thead>\n",
       "  <tbody>\n",
       "    <tr>\n",
       "      <th>221</th>\n",
       "      <td>2305</td>\n",
       "      <td>26996870743</td>\n",
       "      <td>2</td>\n",
       "      <td>859610</td>\n",
       "      <td>2</td>\n",
       "      <td>9.44</td>\n",
       "      <td>414</td>\n",
       "      <td>0.0</td>\n",
       "      <td>1300</td>\n",
       "      <td>1</td>\n",
       "      <td>0.0</td>\n",
       "      <td>0.0</td>\n",
       "      <td>3665</td>\n",
       "      <td>MEAT</td>\n",
       "      <td>National</td>\n",
       "      <td>BEEF</td>\n",
       "      <td>GRND/PATTY - SIRLOIN (90%+)</td>\n",
       "      <td></td>\n",
       "    </tr>\n",
       "    <tr>\n",
       "      <th>342</th>\n",
       "      <td>1617</td>\n",
       "      <td>27008755998</td>\n",
       "      <td>3</td>\n",
       "      <td>972143</td>\n",
       "      <td>1</td>\n",
       "      <td>5.95</td>\n",
       "      <td>440</td>\n",
       "      <td>0.0</td>\n",
       "      <td>1148</td>\n",
       "      <td>1</td>\n",
       "      <td>0.0</td>\n",
       "      <td>0.0</td>\n",
       "      <td>4312</td>\n",
       "      <td>MEAT</td>\n",
       "      <td>National</td>\n",
       "      <td>CHICKEN</td>\n",
       "      <td>CHICKEN WINGS</td>\n",
       "      <td></td>\n",
       "    </tr>\n",
       "    <tr>\n",
       "      <th>408</th>\n",
       "      <td>347</td>\n",
       "      <td>27008813029</td>\n",
       "      <td>3</td>\n",
       "      <td>5593053</td>\n",
       "      <td>1</td>\n",
       "      <td>8.99</td>\n",
       "      <td>367</td>\n",
       "      <td>0.0</td>\n",
       "      <td>2110</td>\n",
       "      <td>1</td>\n",
       "      <td>0.0</td>\n",
       "      <td>0.0</td>\n",
       "      <td>69</td>\n",
       "      <td>FLORAL</td>\n",
       "      <td>Private</td>\n",
       "      <td>ROSES</td>\n",
       "      <td>ROSE CONSUMER BUNCH</td>\n",
       "      <td>7 STEM</td>\n",
       "    </tr>\n",
       "    <tr>\n",
       "      <th>528</th>\n",
       "      <td>2324</td>\n",
       "      <td>27008841880</td>\n",
       "      <td>3</td>\n",
       "      <td>8203606</td>\n",
       "      <td>1</td>\n",
       "      <td>6.50</td>\n",
       "      <td>32004</td>\n",
       "      <td>0.0</td>\n",
       "      <td>1547</td>\n",
       "      <td>1</td>\n",
       "      <td>0.0</td>\n",
       "      <td>0.0</td>\n",
       "      <td>3283</td>\n",
       "      <td>SEAFOOD</td>\n",
       "      <td>National</td>\n",
       "      <td>SEAFOOD-FRESH</td>\n",
       "      <td>SEAFOOD-FRE-RAW FINFISH-OTHER</td>\n",
       "      <td></td>\n",
       "    </tr>\n",
       "    <tr>\n",
       "      <th>607</th>\n",
       "      <td>1238</td>\n",
       "      <td>27008911488</td>\n",
       "      <td>3</td>\n",
       "      <td>948650</td>\n",
       "      <td>1</td>\n",
       "      <td>6.04</td>\n",
       "      <td>358</td>\n",
       "      <td>0.0</td>\n",
       "      <td>1421</td>\n",
       "      <td>1</td>\n",
       "      <td>0.0</td>\n",
       "      <td>0.0</td>\n",
       "      <td>2872</td>\n",
       "      <td>MEAT</td>\n",
       "      <td>National</td>\n",
       "      <td>BEEF</td>\n",
       "      <td>CHOICE BEEF</td>\n",
       "      <td></td>\n",
       "    </tr>\n",
       "  </tbody>\n",
       "</table>\n",
       "</div>"
      ],
      "text/plain": [
       "     user_id    basket_id  day  item_id  quantity  sales_value  store_id  \\\n",
       "221     2305  26996870743    2   859610         2         9.44       414   \n",
       "342     1617  27008755998    3   972143         1         5.95       440   \n",
       "408      347  27008813029    3  5593053         1         8.99       367   \n",
       "528     2324  27008841880    3  8203606         1         6.50     32004   \n",
       "607     1238  27008911488    3   948650         1         6.04       358   \n",
       "\n",
       "     retail_disc  trans_time  week_no  coupon_disc  coupon_match_disc  \\\n",
       "221          0.0        1300        1          0.0                0.0   \n",
       "342          0.0        1148        1          0.0                0.0   \n",
       "408          0.0        2110        1          0.0                0.0   \n",
       "528          0.0        1547        1          0.0                0.0   \n",
       "607          0.0        1421        1          0.0                0.0   \n",
       "\n",
       "     manufacturer department     brand commodity_desc  \\\n",
       "221          3665       MEAT  National           BEEF   \n",
       "342          4312       MEAT  National        CHICKEN   \n",
       "408            69     FLORAL   Private          ROSES   \n",
       "528          3283    SEAFOOD  National  SEAFOOD-FRESH   \n",
       "607          2872       MEAT  National           BEEF   \n",
       "\n",
       "                sub_commodity_desc curr_size_of_product  \n",
       "221    GRND/PATTY - SIRLOIN (90%+)                       \n",
       "342                  CHICKEN WINGS                       \n",
       "408            ROSE CONSUMER BUNCH               7 STEM  \n",
       "528  SEAFOOD-FRE-RAW FINFISH-OTHER                       \n",
       "607                    CHOICE BEEF                       "
      ]
     },
     "execution_count": 7,
     "metadata": {},
     "output_type": "execute_result"
    }
   ],
   "source": [
    "data_train.head()"
   ]
  },
  {
   "cell_type": "code",
   "execution_count": 8,
   "metadata": {
    "ExecuteTime": {
     "end_time": "2020-11-16T21:45:25.708583Z",
     "start_time": "2020-11-16T21:45:25.656392Z"
    }
   },
   "outputs": [
    {
     "data": {
      "text/html": [
       "<div>\n",
       "<style scoped>\n",
       "    .dataframe tbody tr th:only-of-type {\n",
       "        vertical-align: middle;\n",
       "    }\n",
       "\n",
       "    .dataframe tbody tr th {\n",
       "        vertical-align: top;\n",
       "    }\n",
       "\n",
       "    .dataframe thead th {\n",
       "        text-align: right;\n",
       "    }\n",
       "</style>\n",
       "<table border=\"1\" class=\"dataframe\">\n",
       "  <thead>\n",
       "    <tr style=\"text-align: right;\">\n",
       "      <th></th>\n",
       "      <th>item_id</th>\n",
       "      <th>manufacturer</th>\n",
       "      <th>department</th>\n",
       "      <th>brand</th>\n",
       "      <th>commodity_desc</th>\n",
       "      <th>sub_commodity_desc</th>\n",
       "      <th>curr_size_of_product</th>\n",
       "    </tr>\n",
       "  </thead>\n",
       "  <tbody>\n",
       "    <tr>\n",
       "      <th>0</th>\n",
       "      <td>25671</td>\n",
       "      <td>2</td>\n",
       "      <td>GROCERY</td>\n",
       "      <td>National</td>\n",
       "      <td>FRZN ICE</td>\n",
       "      <td>ICE - CRUSHED/CUBED</td>\n",
       "      <td>22 LB</td>\n",
       "    </tr>\n",
       "    <tr>\n",
       "      <th>1</th>\n",
       "      <td>26081</td>\n",
       "      <td>2</td>\n",
       "      <td>MISC. TRANS.</td>\n",
       "      <td>National</td>\n",
       "      <td>NO COMMODITY DESCRIPTION</td>\n",
       "      <td>NO SUBCOMMODITY DESCRIPTION</td>\n",
       "      <td></td>\n",
       "    </tr>\n",
       "    <tr>\n",
       "      <th>2</th>\n",
       "      <td>26093</td>\n",
       "      <td>69</td>\n",
       "      <td>PASTRY</td>\n",
       "      <td>Private</td>\n",
       "      <td>BREAD</td>\n",
       "      <td>BREAD:ITALIAN/FRENCH</td>\n",
       "      <td></td>\n",
       "    </tr>\n",
       "    <tr>\n",
       "      <th>3</th>\n",
       "      <td>26190</td>\n",
       "      <td>69</td>\n",
       "      <td>GROCERY</td>\n",
       "      <td>Private</td>\n",
       "      <td>FRUIT - SHELF STABLE</td>\n",
       "      <td>APPLE SAUCE</td>\n",
       "      <td>50 OZ</td>\n",
       "    </tr>\n",
       "    <tr>\n",
       "      <th>4</th>\n",
       "      <td>26355</td>\n",
       "      <td>69</td>\n",
       "      <td>GROCERY</td>\n",
       "      <td>Private</td>\n",
       "      <td>COOKIES/CONES</td>\n",
       "      <td>SPECIALTY COOKIES</td>\n",
       "      <td>14 OZ</td>\n",
       "    </tr>\n",
       "  </tbody>\n",
       "</table>\n",
       "</div>"
      ],
      "text/plain": [
       "   item_id  manufacturer    department     brand            commodity_desc  \\\n",
       "0    25671             2       GROCERY  National                  FRZN ICE   \n",
       "1    26081             2  MISC. TRANS.  National  NO COMMODITY DESCRIPTION   \n",
       "2    26093            69        PASTRY   Private                     BREAD   \n",
       "3    26190            69       GROCERY   Private      FRUIT - SHELF STABLE   \n",
       "4    26355            69       GROCERY   Private             COOKIES/CONES   \n",
       "\n",
       "            sub_commodity_desc curr_size_of_product  \n",
       "0          ICE - CRUSHED/CUBED                22 LB  \n",
       "1  NO SUBCOMMODITY DESCRIPTION                       \n",
       "2         BREAD:ITALIAN/FRENCH                       \n",
       "3                  APPLE SAUCE                50 OZ  \n",
       "4            SPECIALTY COOKIES                14 OZ  "
      ]
     },
     "execution_count": 8,
     "metadata": {},
     "output_type": "execute_result"
    }
   ],
   "source": [
    "item_features.head()"
   ]
  },
  {
   "cell_type": "code",
   "execution_count": 9,
   "metadata": {
    "ExecuteTime": {
     "end_time": "2020-11-16T21:45:25.740383Z",
     "start_time": "2020-11-16T21:45:25.717011Z"
    }
   },
   "outputs": [
    {
     "data": {
      "text/plain": [
       "(20967, 18)"
      ]
     },
     "execution_count": 9,
     "metadata": {},
     "output_type": "execute_result"
    }
   ],
   "source": [
    "data_train.shape"
   ]
  },
  {
   "cell_type": "markdown",
   "metadata": {},
   "source": [
    "### Model"
   ]
  },
  {
   "cell_type": "code",
   "execution_count": 10,
   "metadata": {
    "ExecuteTime": {
     "end_time": "2020-11-16T21:45:26.592678Z",
     "start_time": "2020-11-16T21:45:25.747387Z"
    }
   },
   "outputs": [
    {
     "data": {
      "text/html": [
       "<div>\n",
       "<style scoped>\n",
       "    .dataframe tbody tr th:only-of-type {\n",
       "        vertical-align: middle;\n",
       "    }\n",
       "\n",
       "    .dataframe tbody tr th {\n",
       "        vertical-align: top;\n",
       "    }\n",
       "\n",
       "    .dataframe thead th {\n",
       "        text-align: right;\n",
       "    }\n",
       "</style>\n",
       "<table border=\"1\" class=\"dataframe\">\n",
       "  <thead>\n",
       "    <tr style=\"text-align: right;\">\n",
       "      <th>item_id</th>\n",
       "      <th>397896</th>\n",
       "      <th>819308</th>\n",
       "      <th>820296</th>\n",
       "      <th>823990</th>\n",
       "      <th>825226</th>\n",
       "      <th>825343</th>\n",
       "      <th>825749</th>\n",
       "      <th>827546</th>\n",
       "      <th>828106</th>\n",
       "      <th>829685</th>\n",
       "      <th>...</th>\n",
       "      <th>13003402</th>\n",
       "      <th>13007264</th>\n",
       "      <th>13007721</th>\n",
       "      <th>13072766</th>\n",
       "      <th>13158494</th>\n",
       "      <th>13158498</th>\n",
       "      <th>13380863</th>\n",
       "      <th>13504479</th>\n",
       "      <th>13506200</th>\n",
       "      <th>13653499</th>\n",
       "    </tr>\n",
       "    <tr>\n",
       "      <th>user_id</th>\n",
       "      <th></th>\n",
       "      <th></th>\n",
       "      <th></th>\n",
       "      <th></th>\n",
       "      <th></th>\n",
       "      <th></th>\n",
       "      <th></th>\n",
       "      <th></th>\n",
       "      <th></th>\n",
       "      <th></th>\n",
       "      <th></th>\n",
       "      <th></th>\n",
       "      <th></th>\n",
       "      <th></th>\n",
       "      <th></th>\n",
       "      <th></th>\n",
       "      <th></th>\n",
       "      <th></th>\n",
       "      <th></th>\n",
       "      <th></th>\n",
       "      <th></th>\n",
       "    </tr>\n",
       "  </thead>\n",
       "  <tbody>\n",
       "    <tr>\n",
       "      <th>1</th>\n",
       "      <td>0.0</td>\n",
       "      <td>0.0</td>\n",
       "      <td>0.0</td>\n",
       "      <td>1.0</td>\n",
       "      <td>0.0</td>\n",
       "      <td>0.0</td>\n",
       "      <td>0.0</td>\n",
       "      <td>0.0</td>\n",
       "      <td>0.0</td>\n",
       "      <td>0.0</td>\n",
       "      <td>...</td>\n",
       "      <td>0.0</td>\n",
       "      <td>0.0</td>\n",
       "      <td>0.0</td>\n",
       "      <td>0.0</td>\n",
       "      <td>0.0</td>\n",
       "      <td>0.0</td>\n",
       "      <td>0.0</td>\n",
       "      <td>0.0</td>\n",
       "      <td>0.0</td>\n",
       "      <td>0.0</td>\n",
       "    </tr>\n",
       "    <tr>\n",
       "      <th>2</th>\n",
       "      <td>0.0</td>\n",
       "      <td>0.0</td>\n",
       "      <td>0.0</td>\n",
       "      <td>0.0</td>\n",
       "      <td>0.0</td>\n",
       "      <td>0.0</td>\n",
       "      <td>0.0</td>\n",
       "      <td>0.0</td>\n",
       "      <td>0.0</td>\n",
       "      <td>0.0</td>\n",
       "      <td>...</td>\n",
       "      <td>0.0</td>\n",
       "      <td>0.0</td>\n",
       "      <td>0.0</td>\n",
       "      <td>0.0</td>\n",
       "      <td>0.0</td>\n",
       "      <td>0.0</td>\n",
       "      <td>0.0</td>\n",
       "      <td>0.0</td>\n",
       "      <td>0.0</td>\n",
       "      <td>0.0</td>\n",
       "    </tr>\n",
       "    <tr>\n",
       "      <th>3</th>\n",
       "      <td>0.0</td>\n",
       "      <td>0.0</td>\n",
       "      <td>0.0</td>\n",
       "      <td>0.0</td>\n",
       "      <td>0.0</td>\n",
       "      <td>0.0</td>\n",
       "      <td>0.0</td>\n",
       "      <td>0.0</td>\n",
       "      <td>0.0</td>\n",
       "      <td>0.0</td>\n",
       "      <td>...</td>\n",
       "      <td>0.0</td>\n",
       "      <td>0.0</td>\n",
       "      <td>0.0</td>\n",
       "      <td>0.0</td>\n",
       "      <td>0.0</td>\n",
       "      <td>0.0</td>\n",
       "      <td>0.0</td>\n",
       "      <td>0.0</td>\n",
       "      <td>0.0</td>\n",
       "      <td>0.0</td>\n",
       "    </tr>\n",
       "  </tbody>\n",
       "</table>\n",
       "<p>3 rows × 391 columns</p>\n",
       "</div>"
      ],
      "text/plain": [
       "item_id  397896    819308    820296    823990    825226    825343    825749    \\\n",
       "user_id                                                                         \n",
       "1             0.0       0.0       0.0       1.0       0.0       0.0       0.0   \n",
       "2             0.0       0.0       0.0       0.0       0.0       0.0       0.0   \n",
       "3             0.0       0.0       0.0       0.0       0.0       0.0       0.0   \n",
       "\n",
       "item_id  827546    828106    829685    ...  13003402  13007264  13007721  \\\n",
       "user_id                                ...                                 \n",
       "1             0.0       0.0       0.0  ...       0.0       0.0       0.0   \n",
       "2             0.0       0.0       0.0  ...       0.0       0.0       0.0   \n",
       "3             0.0       0.0       0.0  ...       0.0       0.0       0.0   \n",
       "\n",
       "item_id  13072766  13158494  13158498  13380863  13504479  13506200  13653499  \n",
       "user_id                                                                        \n",
       "1             0.0       0.0       0.0       0.0       0.0       0.0       0.0  \n",
       "2             0.0       0.0       0.0       0.0       0.0       0.0       0.0  \n",
       "3             0.0       0.0       0.0       0.0       0.0       0.0       0.0  \n",
       "\n",
       "[3 rows x 391 columns]"
      ]
     },
     "execution_count": 10,
     "metadata": {},
     "output_type": "execute_result"
    }
   ],
   "source": [
    "user_item_matrix = pd.pivot_table(data_train, \n",
    "                                  index='user_id', columns='item_id', \n",
    "                                  values='quantity',\n",
    "                                  aggfunc='count', \n",
    "                                  fill_value=0\n",
    "                                 )\n",
    "\n",
    "user_item_matrix = user_item_matrix.astype(float) # необходимый тип матрицы для implicit\n",
    "\n",
    "user_item_matrix.head(3)"
   ]
  },
  {
   "cell_type": "code",
   "execution_count": 11,
   "metadata": {
    "ExecuteTime": {
     "end_time": "2020-11-16T21:45:26.767385Z",
     "start_time": "2020-11-16T21:45:26.598387Z"
    }
   },
   "outputs": [
    {
     "name": "stdout",
     "output_type": "stream",
     "text": [
      "<class 'pandas.core.frame.DataFrame'> item_id  397896    819308    820296    823990    825226    825343    825749    \\\n",
      "user_id                                                                         \n",
      "1             0.0       0.0       0.0       1.0       0.0       0.0       0.0   \n",
      "2             0.0       0.0       0.0       0.0       0.0       0.0       0.0   \n",
      "3             0.0       0.0       0.0       0.0       0.0       0.0       0.0   \n",
      "4             0.0       0.0       0.0       0.0       0.0       0.0       0.0   \n",
      "5             0.0       0.0       0.0       0.0       0.0       0.0       0.0   \n",
      "...           ...       ...       ...       ...       ...       ...       ...   \n",
      "2496          0.0       0.0       0.0       0.0       0.0       1.0       0.0   \n",
      "2497          0.0       0.0       0.0       4.0       0.0       0.0       0.0   \n",
      "2498          0.0       0.0       0.0       0.0       0.0       0.0       0.0   \n",
      "2499          0.0       0.0       0.0       0.0       0.0       0.0       0.0   \n",
      "2500          0.0       0.0       0.0       0.0       0.0       0.0       0.0   \n",
      "\n",
      "item_id  827546    828106    829685    ...  13003402  13007264  13007721  \\\n",
      "user_id                                ...                                 \n",
      "1             0.0       0.0       0.0  ...       0.0       0.0       0.0   \n",
      "2             0.0       0.0       0.0  ...       0.0       0.0       0.0   \n",
      "3             0.0       0.0       0.0  ...       0.0       0.0       0.0   \n",
      "4             0.0       0.0       0.0  ...       0.0       0.0       0.0   \n",
      "5             0.0       0.0       0.0  ...       0.0       0.0       0.0   \n",
      "...           ...       ...       ...  ...       ...       ...       ...   \n",
      "2496          0.0       1.0       0.0  ...       0.0       0.0       0.0   \n",
      "2497          0.0       0.0       0.0  ...       0.0       0.0       0.0   \n",
      "2498          0.0       0.0       0.0  ...       0.0       0.0       0.0   \n",
      "2499          0.0       0.0       0.0  ...       0.0       0.0       0.0   \n",
      "2500          0.0       0.0       0.0  ...       0.0       0.0       0.0   \n",
      "\n",
      "item_id  13072766  13158494  13158498  13380863  13504479  13506200  13653499  \n",
      "user_id                                                                        \n",
      "1             0.0       0.0       0.0       0.0       0.0       0.0       0.0  \n",
      "2             0.0       0.0       0.0       0.0       0.0       0.0       0.0  \n",
      "3             0.0       0.0       0.0       0.0       0.0       0.0       0.0  \n",
      "4             0.0       0.0       0.0       0.0       0.0       0.0       0.0  \n",
      "5             0.0       0.0       0.0       0.0       0.0       0.0       0.0  \n",
      "...           ...       ...       ...       ...       ...       ...       ...  \n",
      "2496          0.0       0.0       0.0       0.0       0.0       0.0       0.0  \n",
      "2497          0.0       0.0       0.0       0.0       0.0       0.0       0.0  \n",
      "2498          0.0       0.0       0.0       0.0       0.0       0.0       0.0  \n",
      "2499          0.0       0.0       0.0       0.0       0.0       0.0       0.0  \n",
      "2500          0.0       0.0       0.0       0.0       0.0       0.0       0.0  \n",
      "\n",
      "[2028 rows x 391 columns]\n"
     ]
    }
   ],
   "source": [
    "print(type(user_item_matrix), user_item_matrix)\n",
    "\n",
    "userids = user_item_matrix.index.values\n",
    "itemids = user_item_matrix.columns.values\n",
    "\n",
    "matrix_userids = np.arange(len(userids))\n",
    "matrix_itemids = np.arange(len(itemids))\n",
    "\n",
    "id_to_itemid = dict(zip(matrix_itemids, itemids))\n",
    "id_to_userid = dict(zip(matrix_userids, userids))\n",
    "\n",
    "itemid_to_id = dict(zip(itemids, matrix_itemids))\n",
    "userid_to_id = dict(zip(userids, matrix_userids))"
   ]
  },
  {
   "cell_type": "code",
   "execution_count": 12,
   "metadata": {
    "ExecuteTime": {
     "end_time": "2020-11-16T21:45:26.877389Z",
     "start_time": "2020-11-16T21:45:26.773385Z"
    }
   },
   "outputs": [
    {
     "data": {
      "text/html": [
       "<div>\n",
       "<style scoped>\n",
       "    .dataframe tbody tr th:only-of-type {\n",
       "        vertical-align: middle;\n",
       "    }\n",
       "\n",
       "    .dataframe tbody tr th {\n",
       "        vertical-align: top;\n",
       "    }\n",
       "\n",
       "    .dataframe thead th {\n",
       "        text-align: right;\n",
       "    }\n",
       "</style>\n",
       "<table border=\"1\" class=\"dataframe\">\n",
       "  <thead>\n",
       "    <tr style=\"text-align: right;\">\n",
       "      <th>item_id</th>\n",
       "      <th>397896</th>\n",
       "      <th>819308</th>\n",
       "      <th>820296</th>\n",
       "      <th>823990</th>\n",
       "      <th>825226</th>\n",
       "      <th>825343</th>\n",
       "      <th>825749</th>\n",
       "      <th>827546</th>\n",
       "      <th>828106</th>\n",
       "      <th>829685</th>\n",
       "      <th>...</th>\n",
       "      <th>13003402</th>\n",
       "      <th>13007264</th>\n",
       "      <th>13007721</th>\n",
       "      <th>13072766</th>\n",
       "      <th>13158494</th>\n",
       "      <th>13158498</th>\n",
       "      <th>13380863</th>\n",
       "      <th>13504479</th>\n",
       "      <th>13506200</th>\n",
       "      <th>13653499</th>\n",
       "    </tr>\n",
       "    <tr>\n",
       "      <th>user_id</th>\n",
       "      <th></th>\n",
       "      <th></th>\n",
       "      <th></th>\n",
       "      <th></th>\n",
       "      <th></th>\n",
       "      <th></th>\n",
       "      <th></th>\n",
       "      <th></th>\n",
       "      <th></th>\n",
       "      <th></th>\n",
       "      <th></th>\n",
       "      <th></th>\n",
       "      <th></th>\n",
       "      <th></th>\n",
       "      <th></th>\n",
       "      <th></th>\n",
       "      <th></th>\n",
       "      <th></th>\n",
       "      <th></th>\n",
       "      <th></th>\n",
       "      <th></th>\n",
       "    </tr>\n",
       "  </thead>\n",
       "  <tbody>\n",
       "    <tr>\n",
       "      <th>1</th>\n",
       "      <td>0.0</td>\n",
       "      <td>0.0</td>\n",
       "      <td>0.0</td>\n",
       "      <td>1.0</td>\n",
       "      <td>0.0</td>\n",
       "      <td>0.0</td>\n",
       "      <td>0.0</td>\n",
       "      <td>0.0</td>\n",
       "      <td>0.0</td>\n",
       "      <td>0.0</td>\n",
       "      <td>...</td>\n",
       "      <td>0.0</td>\n",
       "      <td>0.0</td>\n",
       "      <td>0.0</td>\n",
       "      <td>0.0</td>\n",
       "      <td>0.0</td>\n",
       "      <td>0.0</td>\n",
       "      <td>0.0</td>\n",
       "      <td>0.0</td>\n",
       "      <td>0.0</td>\n",
       "      <td>0.0</td>\n",
       "    </tr>\n",
       "    <tr>\n",
       "      <th>2</th>\n",
       "      <td>0.0</td>\n",
       "      <td>0.0</td>\n",
       "      <td>0.0</td>\n",
       "      <td>0.0</td>\n",
       "      <td>0.0</td>\n",
       "      <td>0.0</td>\n",
       "      <td>0.0</td>\n",
       "      <td>0.0</td>\n",
       "      <td>0.0</td>\n",
       "      <td>0.0</td>\n",
       "      <td>...</td>\n",
       "      <td>0.0</td>\n",
       "      <td>0.0</td>\n",
       "      <td>0.0</td>\n",
       "      <td>0.0</td>\n",
       "      <td>0.0</td>\n",
       "      <td>0.0</td>\n",
       "      <td>0.0</td>\n",
       "      <td>0.0</td>\n",
       "      <td>0.0</td>\n",
       "      <td>0.0</td>\n",
       "    </tr>\n",
       "    <tr>\n",
       "      <th>3</th>\n",
       "      <td>0.0</td>\n",
       "      <td>0.0</td>\n",
       "      <td>0.0</td>\n",
       "      <td>0.0</td>\n",
       "      <td>0.0</td>\n",
       "      <td>0.0</td>\n",
       "      <td>0.0</td>\n",
       "      <td>0.0</td>\n",
       "      <td>0.0</td>\n",
       "      <td>0.0</td>\n",
       "      <td>...</td>\n",
       "      <td>0.0</td>\n",
       "      <td>0.0</td>\n",
       "      <td>0.0</td>\n",
       "      <td>0.0</td>\n",
       "      <td>0.0</td>\n",
       "      <td>0.0</td>\n",
       "      <td>0.0</td>\n",
       "      <td>0.0</td>\n",
       "      <td>0.0</td>\n",
       "      <td>0.0</td>\n",
       "    </tr>\n",
       "    <tr>\n",
       "      <th>4</th>\n",
       "      <td>0.0</td>\n",
       "      <td>0.0</td>\n",
       "      <td>0.0</td>\n",
       "      <td>0.0</td>\n",
       "      <td>0.0</td>\n",
       "      <td>0.0</td>\n",
       "      <td>0.0</td>\n",
       "      <td>0.0</td>\n",
       "      <td>0.0</td>\n",
       "      <td>0.0</td>\n",
       "      <td>...</td>\n",
       "      <td>0.0</td>\n",
       "      <td>0.0</td>\n",
       "      <td>0.0</td>\n",
       "      <td>0.0</td>\n",
       "      <td>0.0</td>\n",
       "      <td>0.0</td>\n",
       "      <td>0.0</td>\n",
       "      <td>0.0</td>\n",
       "      <td>0.0</td>\n",
       "      <td>0.0</td>\n",
       "    </tr>\n",
       "    <tr>\n",
       "      <th>5</th>\n",
       "      <td>0.0</td>\n",
       "      <td>0.0</td>\n",
       "      <td>0.0</td>\n",
       "      <td>0.0</td>\n",
       "      <td>0.0</td>\n",
       "      <td>0.0</td>\n",
       "      <td>0.0</td>\n",
       "      <td>0.0</td>\n",
       "      <td>0.0</td>\n",
       "      <td>0.0</td>\n",
       "      <td>...</td>\n",
       "      <td>0.0</td>\n",
       "      <td>0.0</td>\n",
       "      <td>0.0</td>\n",
       "      <td>0.0</td>\n",
       "      <td>0.0</td>\n",
       "      <td>0.0</td>\n",
       "      <td>0.0</td>\n",
       "      <td>0.0</td>\n",
       "      <td>0.0</td>\n",
       "      <td>0.0</td>\n",
       "    </tr>\n",
       "  </tbody>\n",
       "</table>\n",
       "<p>5 rows × 391 columns</p>\n",
       "</div>"
      ],
      "text/plain": [
       "item_id  397896    819308    820296    823990    825226    825343    825749    \\\n",
       "user_id                                                                         \n",
       "1             0.0       0.0       0.0       1.0       0.0       0.0       0.0   \n",
       "2             0.0       0.0       0.0       0.0       0.0       0.0       0.0   \n",
       "3             0.0       0.0       0.0       0.0       0.0       0.0       0.0   \n",
       "4             0.0       0.0       0.0       0.0       0.0       0.0       0.0   \n",
       "5             0.0       0.0       0.0       0.0       0.0       0.0       0.0   \n",
       "\n",
       "item_id  827546    828106    829685    ...  13003402  13007264  13007721  \\\n",
       "user_id                                ...                                 \n",
       "1             0.0       0.0       0.0  ...       0.0       0.0       0.0   \n",
       "2             0.0       0.0       0.0  ...       0.0       0.0       0.0   \n",
       "3             0.0       0.0       0.0  ...       0.0       0.0       0.0   \n",
       "4             0.0       0.0       0.0  ...       0.0       0.0       0.0   \n",
       "5             0.0       0.0       0.0  ...       0.0       0.0       0.0   \n",
       "\n",
       "item_id  13072766  13158494  13158498  13380863  13504479  13506200  13653499  \n",
       "user_id                                                                        \n",
       "1             0.0       0.0       0.0       0.0       0.0       0.0       0.0  \n",
       "2             0.0       0.0       0.0       0.0       0.0       0.0       0.0  \n",
       "3             0.0       0.0       0.0       0.0       0.0       0.0       0.0  \n",
       "4             0.0       0.0       0.0       0.0       0.0       0.0       0.0  \n",
       "5             0.0       0.0       0.0       0.0       0.0       0.0       0.0  \n",
       "\n",
       "[5 rows x 391 columns]"
      ]
     },
     "execution_count": 12,
     "metadata": {},
     "output_type": "execute_result"
    }
   ],
   "source": [
    "user_item_matrix.head()"
   ]
  },
  {
   "cell_type": "code",
   "execution_count": 13,
   "metadata": {
    "ExecuteTime": {
     "end_time": "2020-11-16T21:45:26.924384Z",
     "start_time": "2020-11-16T21:45:26.884629Z"
    }
   },
   "outputs": [],
   "source": [
    "user_item_matrix = bm25_weight(user_item_matrix.T).T  # Применяется к item-user матрице ! "
   ]
  },
  {
   "cell_type": "code",
   "execution_count": 14,
   "metadata": {
    "ExecuteTime": {
     "end_time": "2020-11-16T21:45:27.526390Z",
     "start_time": "2020-11-16T21:45:26.930387Z"
    }
   },
   "outputs": [
    {
     "name": "stderr",
     "output_type": "stream",
     "text": [
      "WARNING:root:Intel MKL BLAS detected. Its highly recommend to set the environment variable 'export MKL_NUM_THREADS=1' to disable its internal multithreading\n"
     ]
    },
    {
     "data": {
      "application/vnd.jupyter.widget-view+json": {
       "model_id": "932083cbf35946d99512036d370f1167",
       "version_major": 2,
       "version_minor": 0
      },
      "text/plain": [
       "HBox(children=(FloatProgress(value=0.0, max=15.0), HTML(value='')))"
      ]
     },
     "metadata": {},
     "output_type": "display_data"
    },
    {
     "name": "stdout",
     "output_type": "stream",
     "text": [
      "\n",
      "Wall time: 97 ms\n"
     ]
    }
   ],
   "source": [
    "%%time\n",
    "\n",
    "model = AlternatingLeastSquares(factors=20, \n",
    "                                regularization=0.001,\n",
    "                                iterations=15, \n",
    "                                calculate_training_loss=True, \n",
    "                                num_threads=4)\n",
    "\n",
    "model.fit(csr_matrix(user_item_matrix).T.tocsr(),  # На вход item-user matrix\n",
    "          show_progress=True)"
   ]
  },
  {
   "cell_type": "markdown",
   "metadata": {},
   "source": [
    "# Домашнее задание"
   ]
  },
  {
   "cell_type": "markdown",
   "metadata": {},
   "source": [
    "### Домашнее задание. Описание."
   ]
  },
  {
   "cell_type": "markdown",
   "metadata": {},
   "source": [
    "1. Изучите структуру модуля src   [DONE]\n",
    "2. Перенесите функции prefilter_items и postfilter_items из вебинара в модуль src.utils.py   [DONE]\n",
    "3. Реализуйте функции get_similar_items_recommendation, get_similar_users_recommendation (они разбирались на вебинаре) и переместите в src.utils.py   [DONE]\n",
    "4. Создайте модуль src.recommenders.py. Напищите код для класса ниже и положите его в src.recommenders.py\n",
    "5. Проверьте, что все модули корректно импортируются\n",
    "6. Если вы еще не прочитали [статью](https://habr.com/ru/company/hh/blog/347276/) о рекомендательных системах и поиске в hh.ru, то обязательно прочитайте   [DONE]"
   ]
  },
  {
   "cell_type": "markdown",
   "metadata": {},
   "source": [
    "### Домашнее задание. Решение."
   ]
  },
  {
   "cell_type": "markdown",
   "metadata": {},
   "source": [
    "##### Prefilter, postfilter functions"
   ]
  },
  {
   "cell_type": "code",
   "execution_count": 15,
   "metadata": {
    "ExecuteTime": {
     "end_time": "2020-11-16T21:45:27.574485Z",
     "start_time": "2020-11-16T21:45:27.533386Z"
    }
   },
   "outputs": [],
   "source": [
    "def prefilter_items(data, item_features):\n",
    "    \n",
    "    data = data.merge(item_features, how='left', on='item_id')\n",
    "    \n",
    "    # Убираем самые популярные товары.\n",
    "    popularity = data.groupby('item_id')['user_id'].nunique().reset_index()\n",
    "    popularity['user_id'] = popularity['user_id']/ data['user_id'].nunique()\n",
    "    \n",
    "    popularity.rename(columns={'user_id': 'share_unique_users'}, inplace=True)\n",
    "    popularity.sort_values('share_unique_users', inplace=True)\n",
    "    \n",
    "    top_popular = popularity[popularity['share_unique_users'] > 0.5].item_id.tolist()\n",
    "    data = data[~data['item_id'].isin(top_popular)]\n",
    "    \n",
    "    # Убираем самые непопулярыне товары.\n",
    "    top_notpopular = popularity[popularity['share_unique_users'] < 0.01].item_id.tolist()\n",
    "    data = data[~data['item_id'].isin(top_notpopular)]\n",
    "    \n",
    "    # Убараем товары, по которым не было продаж больше 12 месяцев.\n",
    "    data = data[~(data['week_no'] > data['week_no'].max() - 12 * 4)]\n",
    "    \n",
    "    # Убираем товары из неинтересных категорий (department).\n",
    "    deps_to_delete = ['GROCERY', 'MISC. TRANS.', 'PASTRY', 'DRUG GM', 'MEAT-PCKGD',\n",
    "       'SEAFOOD-PCKGD', 'PRODUCE', 'NUTRITION', 'DELI', 'COSMETICS']\n",
    "    data = data[~(data['department'].isin(deps_to_delete))]\n",
    "    \n",
    "    # Убираем самые дешевые товары. \n",
    "    data = data[~(data['sales_value'] < 5)]\n",
    "    \n",
    "    # Убираем самые дорогие товары.\n",
    "    data = data[~(data['sales_value'] > 100)]\n",
    "    \n",
    "    return data\n",
    "\n",
    "def postfilter_items(user_id, recommednations):\n",
    "    pass\n"
   ]
  },
  {
   "cell_type": "markdown",
   "metadata": {},
   "source": [
    "##### Get 'similar' functions"
   ]
  },
  {
   "cell_type": "code",
   "execution_count": 16,
   "metadata": {
    "ExecuteTime": {
     "end_time": "2020-11-16T21:45:27.748384Z",
     "start_time": "2020-11-16T21:45:27.580386Z"
    }
   },
   "outputs": [
    {
     "name": "stdout",
     "output_type": "stream",
     "text": [
      "[390 389 387 265 264]\n",
      "[ 16  96 202  28   5]\n",
      "[195  16  82  76  60]\n",
      "[195  61   8  39 249]\n",
      "[ 96  45 308  28 169]\n",
      "[202  45   0 265 264]\n"
     ]
    },
    {
     "data": {
      "text/plain": [
       "array([ 0, 39, 61, 39, 76], dtype=int64)"
      ]
     },
     "execution_count": 16,
     "metadata": {},
     "output_type": "execute_result"
    }
   ],
   "source": [
    "def get_similar_items_recommendation(user, model, user_item_matrix, N=5):\n",
    "    \"\"\"Рекомендуем товары, похожие на топ-N купленных юзером товаров\"\"\"\n",
    "    user_id = itemid_to_id[user]\n",
    "    \n",
    "    top_n_items = user_item_matrix.toarray()[user_id, :]\n",
    "    top_n_items.sort()\n",
    "    top_n_items = np.argsort(-top_n_items)\n",
    "    top_n_items = top_n_items[:N]\n",
    "    print(top_n_items)\n",
    "    \n",
    "    similar_items = []\n",
    "    for item in top_n_items:\n",
    "        similar_item = [val[0] for val in model.similar_items(itemid=item, N=2) if val[0] != item]\n",
    "        similar_items.append(similar_item)\n",
    "    similar_items = np.array(similar_items).flatten()\n",
    "    \n",
    "    return similar_items\n",
    "\n",
    "def get_similar_users_recommendation(user, model, user_item_matrix, N=5):\n",
    "    \"\"\"Рекомендуем топ-N товаров, среди купленных похожими юзерами\"\"\"\n",
    "    \n",
    "    similar_users = model.similar_users(userid=userid_to_id[user], N=N)\n",
    "    similar_items = []\n",
    "    \n",
    "    for user in similar_users:\n",
    "        user = user[0]\n",
    "        top_n_items = user_item_matrix.toarray()[user, :]\n",
    "        top_n_items = np.argsort(-top_n_items)[:N]\n",
    "        print(top_n_items)\n",
    "        similar_items.append(top_n_items)\n",
    "    similar_items = list(set(np.array(similar_items).flatten()))\n",
    "    \n",
    "    return np.random.choice(similar_items, N)\n",
    "\n",
    "get_similar_items_recommendation(397896, model, user_item_matrix, N=5)\n",
    "get_similar_users_recommendation(2375, model, user_item_matrix, N=5)"
   ]
  },
  {
   "cell_type": "markdown",
   "metadata": {},
   "source": [
    "##### Class incapsulate"
   ]
  },
  {
   "cell_type": "code",
   "execution_count": 17,
   "metadata": {
    "ExecuteTime": {
     "end_time": "2020-11-16T21:45:27.888686Z",
     "start_time": "2020-11-16T21:45:27.754388Z"
    }
   },
   "outputs": [],
   "source": [
    "import pandas as pd\n",
    "import numpy as np\n",
    "\n",
    "# Для работы с матрицами\n",
    "from scipy.sparse import csr_matrix\n",
    "\n",
    "# Матричная факторизация\n",
    "from implicit.als import AlternatingLeastSquares\n",
    "from implicit.nearest_neighbours import ItemItemRecommender  # нужен для одного трюка\n",
    "from implicit.nearest_neighbours import bm25_weight, tfidf_weight\n",
    "\n",
    "\n",
    "class MainRecommender:\n",
    "    def __init__(self, user_item_data, item_features, weighting=True):\n",
    "        \n",
    "        self.item_features = item_features\n",
    "        self.user_item_matrix = self.prepare_matrix(user_item_data, self.item_features)\n",
    "        self.prepare_dicts(self.user_item_matrix)\n",
    "        \n",
    "        if weighting:\n",
    "            self.user_item_matrix = bm25_weight(self.user_item_matrix.T).T \n",
    "        \n",
    "        self.model = self.fit(self.user_item_matrix)\n",
    "        self.own_recommender = self.fit_own_recommender(self.user_item_matrix)\n",
    "     \n",
    "    def prepare_matrix(self, data, item_features):\n",
    "        data = self.prefilter_items(data, item_features)\n",
    "        \n",
    "        user_item_matrix = pd.pivot_table(data, \n",
    "                                  index='user_id', columns='item_id', \n",
    "                                  values='quantity', # Можно пробоват ьдругие варианты\n",
    "                                  aggfunc='count', \n",
    "                                  fill_value=0\n",
    "                                 )\n",
    "\n",
    "        user_item_matrix = user_item_matrix.astype(float) # необходимый тип матрицы для implicit\n",
    "\n",
    "\n",
    "        return user_item_matrix\n",
    "    \n",
    "    def prepare_dicts(self, user_item_matrix):\n",
    "        \"\"\"Подготавливает вспомогательные словари\"\"\"\n",
    "        \n",
    "        userids = user_item_matrix.index.values\n",
    "        itemids = user_item_matrix.columns.values\n",
    "\n",
    "        matrix_userids = np.arange(len(userids))\n",
    "        matrix_itemids = np.arange(len(itemids))\n",
    "\n",
    "        self.id_to_itemid = dict(zip(matrix_itemids, itemids))\n",
    "        self.id_to_userid = dict(zip(matrix_userids, userids))\n",
    "\n",
    "        self.itemid_to_id = dict(zip(itemids, matrix_itemids))\n",
    "        self.userid_to_id = dict(zip(userids, matrix_userids))\n",
    "     \n",
    "    @staticmethod\n",
    "    def fit_own_recommender(user_item_matrix):\n",
    "        \"\"\"Обучает модель, которая рекомендует товары, среди товаров, купленных юзером\"\"\"\n",
    "    \n",
    "        own_recommender = ItemItemRecommender(K=1, num_threads=4)\n",
    "        own_recommender.fit(csr_matrix(user_item_matrix).T.tocsr())\n",
    "        \n",
    "        return own_recommender\n",
    "    \n",
    "    def fit(self, user_item_matrix, n_factors=20, regularization=0.001, iterations=15, num_threads=4):\n",
    "        \"\"\"Обучает ALS\"\"\"\n",
    "        model = AlternatingLeastSquares(factors=n_factors, \n",
    "                                             regularization=regularization,\n",
    "                                             iterations=iterations,  \n",
    "                                             num_threads=num_threads)\n",
    "        model.fit(csr_matrix(self.user_item_matrix).T.tocsr())\n",
    "        \n",
    "        return model\n",
    "    \n",
    "    def prefilter_items(self, data, item_features):\n",
    "        data = data.merge(item_features, how='left', on='item_id', suffixes=('', 'f'))\n",
    "\n",
    "        # Убираем самые популярные товары.\n",
    "        popularity = data.groupby('item_id')['user_id'].nunique().reset_index()\n",
    "        popularity['user_id'] = popularity['user_id']/ data['user_id'].nunique()\n",
    "\n",
    "        popularity.rename(columns={'user_id': 'share_unique_users'}, inplace=True)\n",
    "        popularity.sort_values('share_unique_users', inplace=True)\n",
    "\n",
    "        top_popular = popularity[popularity['share_unique_users'] > 0.5].item_id.tolist()\n",
    "        data = data[~data['item_id'].isin(top_popular)]\n",
    "\n",
    "        # Убираем самые непопулярыне товары.\n",
    "        top_notpopular = popularity[popularity['share_unique_users'] < 0.01].item_id.tolist()\n",
    "        data = data[~data['item_id'].isin(top_notpopular)]\n",
    "\n",
    "        # Убараем товары, по которым не было продаж больше 12 месяцев.\n",
    "        data = data[~(data['week_no'] > data['week_no'].max() - 12 * 4)]\n",
    "\n",
    "        # Убираем товары из неинтересных категорий (department).\n",
    "        deps_to_delete = ['GROCERY', 'MISC. TRANS.', 'PASTRY', 'DRUG GM', 'MEAT-PCKGD',\n",
    "           'SEAFOOD-PCKGD', 'PRODUCE', 'NUTRITION', 'DELI', 'COSMETICS']\n",
    "        data = data[~(data['department'].isin(deps_to_delete))]\n",
    "\n",
    "        # Убираем самые дешевые товары. \n",
    "        data = data[~(data['sales_value'] < 5)]\n",
    "\n",
    "        # Убираем самые дорогие товары.\n",
    "        data = data[~(data['sales_value'] > 100)]\n",
    "        return data\n",
    "\n",
    "\n",
    "    def get_similar_items_recommendation(self, user, N=5):\n",
    "        \"\"\"Рекомендуем товары, похожие на топ-N купленных юзером товаров\"\"\"\n",
    "        \n",
    "        model = self.model\n",
    "        user_item_matrix = self.user_item_matrix\n",
    "        \n",
    "        user_id = self.itemid_to_id[user]\n",
    "\n",
    "        top_n_items = user_item_matrix.toarray()[user_id, :]\n",
    "        top_n_items.sort()\n",
    "        top_n_items = np.argsort(-top_n_items)\n",
    "        top_n_items = top_n_items[:N]\n",
    "        print(top_n_items)\n",
    "\n",
    "        similar_items = []\n",
    "        for item in top_n_items:\n",
    "            similar_item = [val[0] for val in model.similar_items(itemid=item, N=2) if val[0] != item]\n",
    "            similar_items.append(similar_item)\n",
    "        similar_items = np.array(similar_items).flatten()\n",
    "\n",
    "        assert len(similar_items) == N, 'Количество рекомендаций != {}'.format(N)\n",
    "        return similar_items\n",
    "\n",
    "    def get_similar_users_recommendation(self, user, N=5):\n",
    "        \"\"\"Рекомендуем топ-N товаров, среди купленных похожими юзерами\"\"\"\n",
    "        \n",
    "        model = self.model\n",
    "        user_item_matrix = self.user_item_matrix\n",
    "    \n",
    "        similar_users = model.similar_users(userid=self.userid_to_id[user], N=N)\n",
    "        similar_items = []\n",
    "\n",
    "        for user in similar_users:\n",
    "            user = user[0]\n",
    "            top_n_items = user_item_matrix.toarray()[user, :]\n",
    "            top_n_items = np.argsort(-top_n_items)[:N]\n",
    "            print(top_n_items)\n",
    "            similar_items.append(top_n_items)\n",
    "        similar_items = list(set(np.array(similar_items).flatten()))\n",
    "\n",
    "        return np.random.choice(similar_items, N)"
   ]
  },
  {
   "cell_type": "code",
   "execution_count": 18,
   "metadata": {
    "ExecuteTime": {
     "end_time": "2020-11-16T21:48:02.970121Z",
     "start_time": "2020-11-16T21:45:27.929263Z"
    }
   },
   "outputs": [
    {
     "data": {
      "application/vnd.jupyter.widget-view+json": {
       "model_id": "c83a7b2a70314eb4bd1b8c7fd07414ab",
       "version_major": 2,
       "version_minor": 0
      },
      "text/plain": [
       "HBox(children=(FloatProgress(value=0.0, max=15.0), HTML(value='')))"
      ]
     },
     "metadata": {},
     "output_type": "display_data"
    },
    {
     "name": "stdout",
     "output_type": "stream",
     "text": [
      "\n"
     ]
    },
    {
     "data": {
      "application/vnd.jupyter.widget-view+json": {
       "model_id": "03690d045c49450fb55341f2201c7e81",
       "version_major": 2,
       "version_minor": 0
      },
      "text/plain": [
       "HBox(children=(FloatProgress(value=0.0, max=391.0), HTML(value='')))"
      ]
     },
     "metadata": {},
     "output_type": "display_data"
    },
    {
     "name": "stdout",
     "output_type": "stream",
     "text": [
      "\n",
      "[390 389 387 265 264]\n",
      "[ 16  96 202  28   5]\n",
      "[195  16  82  76  60]\n",
      "[195  61   8  39 249]\n",
      "[ 16  61 176  40 179]\n",
      "[ 61 159  74 266 265]\n"
     ]
    },
    {
     "data": {
      "text/plain": [
       "array([179, 265, 249,   8, 159], dtype=int64)"
      ]
     },
     "execution_count": 18,
     "metadata": {},
     "output_type": "execute_result"
    }
   ],
   "source": [
    "data_train, data_test = import_data()\n",
    "\n",
    "recommender = MainRecommender(data_train, item_features)\n",
    "\n",
    "recommender.get_similar_items_recommendation(397896, N=5)\n",
    "recommender.get_similar_users_recommendation(2375, N=5)"
   ]
  },
  {
   "cell_type": "markdown",
   "metadata": {},
   "source": [
    "##### Check"
   ]
  },
  {
   "cell_type": "code",
   "execution_count": 19,
   "metadata": {
    "ExecuteTime": {
     "end_time": "2020-11-16T21:48:02.981126Z",
     "start_time": "2020-11-16T21:45:00.443Z"
    }
   },
   "outputs": [
    {
     "data": {
      "application/vnd.jupyter.widget-view+json": {
       "model_id": "b4bf6625124d4966bb0881fb2f1554cb",
       "version_major": 2,
       "version_minor": 0
      },
      "text/plain": [
       "HBox(children=(FloatProgress(value=0.0, max=15.0), HTML(value='')))"
      ]
     },
     "metadata": {},
     "output_type": "display_data"
    },
    {
     "name": "stdout",
     "output_type": "stream",
     "text": [
      "\n"
     ]
    },
    {
     "data": {
      "application/vnd.jupyter.widget-view+json": {
       "model_id": "14ae211887524ba0a0e29ae0c36d1440",
       "version_major": 2,
       "version_minor": 0
      },
      "text/plain": [
       "HBox(children=(FloatProgress(value=0.0, max=391.0), HTML(value='')))"
      ]
     },
     "metadata": {},
     "output_type": "display_data"
    },
    {
     "name": "stdout",
     "output_type": "stream",
     "text": [
      "\n",
      "[390 389 387 265 264]\n",
      "[ 16  96 202  28   5]\n",
      "[195  61   8  39 249]\n",
      "[ 16  61 176  40 179]\n",
      "[202  45   0 265 264]\n",
      "[202  45   0 265 264]\n"
     ]
    },
    {
     "data": {
      "text/plain": [
       "array([195, 264,  39,  39, 179], dtype=int64)"
      ]
     },
     "execution_count": 19,
     "metadata": {},
     "output_type": "execute_result"
    }
   ],
   "source": [
    "from src.metrics import precision_at_k, recall_at_k\n",
    "from src.utils import prefilter_items, postfilter_items\n",
    "from src.recommenders import MainRecommender\n",
    "\n",
    "data_train, data_test = import_data()\n",
    "\n",
    "recommender = MainRecommender(data_train, item_features)\n",
    "\n",
    "recommender.get_similar_items_recommendation(397896, N=5)\n",
    "recommender.get_similar_users_recommendation(2375, N=5)"
   ]
  },
  {
   "cell_type": "code",
   "execution_count": 20,
   "metadata": {
    "ExecuteTime": {
     "end_time": "2020-11-16T21:48:02.984127Z",
     "start_time": "2020-11-16T21:45:00.448Z"
    }
   },
   "outputs": [
    {
     "data": {
      "text/html": [
       "<div>\n",
       "<style scoped>\n",
       "    .dataframe tbody tr th:only-of-type {\n",
       "        vertical-align: middle;\n",
       "    }\n",
       "\n",
       "    .dataframe tbody tr th {\n",
       "        vertical-align: top;\n",
       "    }\n",
       "\n",
       "    .dataframe thead th {\n",
       "        text-align: right;\n",
       "    }\n",
       "</style>\n",
       "<table border=\"1\" class=\"dataframe\">\n",
       "  <thead>\n",
       "    <tr style=\"text-align: right;\">\n",
       "      <th></th>\n",
       "      <th>user_id</th>\n",
       "      <th>basket_id</th>\n",
       "      <th>day</th>\n",
       "      <th>item_id</th>\n",
       "      <th>quantity</th>\n",
       "      <th>sales_value</th>\n",
       "      <th>store_id</th>\n",
       "      <th>retail_disc</th>\n",
       "      <th>trans_time</th>\n",
       "      <th>week_no</th>\n",
       "      <th>coupon_disc</th>\n",
       "      <th>coupon_match_disc</th>\n",
       "    </tr>\n",
       "  </thead>\n",
       "  <tbody>\n",
       "    <tr>\n",
       "      <th>0</th>\n",
       "      <td>2375</td>\n",
       "      <td>26984851472</td>\n",
       "      <td>1</td>\n",
       "      <td>1004906</td>\n",
       "      <td>1</td>\n",
       "      <td>1.39</td>\n",
       "      <td>364</td>\n",
       "      <td>-0.60</td>\n",
       "      <td>1631</td>\n",
       "      <td>1</td>\n",
       "      <td>0.0</td>\n",
       "      <td>0.0</td>\n",
       "    </tr>\n",
       "    <tr>\n",
       "      <th>1</th>\n",
       "      <td>2375</td>\n",
       "      <td>26984851472</td>\n",
       "      <td>1</td>\n",
       "      <td>1033142</td>\n",
       "      <td>1</td>\n",
       "      <td>0.82</td>\n",
       "      <td>364</td>\n",
       "      <td>0.00</td>\n",
       "      <td>1631</td>\n",
       "      <td>1</td>\n",
       "      <td>0.0</td>\n",
       "      <td>0.0</td>\n",
       "    </tr>\n",
       "    <tr>\n",
       "      <th>2</th>\n",
       "      <td>2375</td>\n",
       "      <td>26984851472</td>\n",
       "      <td>1</td>\n",
       "      <td>1036325</td>\n",
       "      <td>1</td>\n",
       "      <td>0.99</td>\n",
       "      <td>364</td>\n",
       "      <td>-0.30</td>\n",
       "      <td>1631</td>\n",
       "      <td>1</td>\n",
       "      <td>0.0</td>\n",
       "      <td>0.0</td>\n",
       "    </tr>\n",
       "    <tr>\n",
       "      <th>3</th>\n",
       "      <td>2375</td>\n",
       "      <td>26984851472</td>\n",
       "      <td>1</td>\n",
       "      <td>1082185</td>\n",
       "      <td>1</td>\n",
       "      <td>1.21</td>\n",
       "      <td>364</td>\n",
       "      <td>0.00</td>\n",
       "      <td>1631</td>\n",
       "      <td>1</td>\n",
       "      <td>0.0</td>\n",
       "      <td>0.0</td>\n",
       "    </tr>\n",
       "    <tr>\n",
       "      <th>4</th>\n",
       "      <td>2375</td>\n",
       "      <td>26984851472</td>\n",
       "      <td>1</td>\n",
       "      <td>8160430</td>\n",
       "      <td>1</td>\n",
       "      <td>1.50</td>\n",
       "      <td>364</td>\n",
       "      <td>-0.39</td>\n",
       "      <td>1631</td>\n",
       "      <td>1</td>\n",
       "      <td>0.0</td>\n",
       "      <td>0.0</td>\n",
       "    </tr>\n",
       "  </tbody>\n",
       "</table>\n",
       "</div>"
      ],
      "text/plain": [
       "   user_id    basket_id  day  item_id  quantity  sales_value  store_id  \\\n",
       "0     2375  26984851472    1  1004906         1         1.39       364   \n",
       "1     2375  26984851472    1  1033142         1         0.82       364   \n",
       "2     2375  26984851472    1  1036325         1         0.99       364   \n",
       "3     2375  26984851472    1  1082185         1         1.21       364   \n",
       "4     2375  26984851472    1  8160430         1         1.50       364   \n",
       "\n",
       "   retail_disc  trans_time  week_no  coupon_disc  coupon_match_disc  \n",
       "0        -0.60        1631        1          0.0                0.0  \n",
       "1         0.00        1631        1          0.0                0.0  \n",
       "2        -0.30        1631        1          0.0                0.0  \n",
       "3         0.00        1631        1          0.0                0.0  \n",
       "4        -0.39        1631        1          0.0                0.0  "
      ]
     },
     "execution_count": 20,
     "metadata": {},
     "output_type": "execute_result"
    }
   ],
   "source": [
    "data_train.head()"
   ]
  },
  {
   "cell_type": "code",
   "execution_count": 21,
   "metadata": {
    "ExecuteTime": {
     "end_time": "2020-11-16T21:48:02.989125Z",
     "start_time": "2020-11-16T21:45:00.453Z"
    }
   },
   "outputs": [
    {
     "data": {
      "text/plain": [
       "69"
      ]
     },
     "execution_count": 21,
     "metadata": {},
     "output_type": "execute_result"
    }
   ],
   "source": [
    "import gc\n",
    "\n",
    "gc.collect()"
   ]
  }
 ],
 "metadata": {
  "hide_input": false,
  "kernelspec": {
   "display_name": "Python 3",
   "language": "python",
   "name": "python3"
  },
  "language_info": {
   "codemirror_mode": {
    "name": "ipython",
    "version": 3
   },
   "file_extension": ".py",
   "mimetype": "text/x-python",
   "name": "python",
   "nbconvert_exporter": "python",
   "pygments_lexer": "ipython3",
   "version": "3.7.6"
  },
  "notify_time": "10",
  "toc": {
   "base_numbering": 1,
   "nav_menu": {},
   "number_sections": false,
   "sideBar": true,
   "skip_h1_title": false,
   "title_cell": "Menu",
   "title_sidebar": "Menu",
   "toc_cell": false,
   "toc_position": {
    "height": "calc(100% - 180px)",
    "left": "10px",
    "top": "150px",
    "width": "256.447px"
   },
   "toc_section_display": true,
   "toc_window_display": true
  }
 },
 "nbformat": 4,
 "nbformat_minor": 2
}
